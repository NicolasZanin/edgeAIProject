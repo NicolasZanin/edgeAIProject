{
 "cells": [
  {
   "cell_type": "markdown",
   "metadata": {},
   "source": [
    "# Project EdgeAI"
   ]
  },
  {
   "cell_type": "markdown",
   "metadata": {},
   "source": [
    "## Import library to get data"
   ]
  },
  {
   "cell_type": "code",
   "execution_count": 128,
   "metadata": {},
   "outputs": [],
   "source": [
    "import requests, os, shutil\n",
    "\n",
    "listQuery = [\"Emberiza citrinella\", \"Alauda arvensis\", \"Cuculus canorus\" ] #, \"Emberiza cirlus\", \"Tyto alba\", \"Falco tinnunculus\", \"Sylvia borin\", \"Muscicapa striata\", \"Tachybaptus ruficollis\", \"Delichon urbicum\"]"
   ]
  },
  {
   "cell_type": "markdown",
   "metadata": {},
   "source": [
    "## Import data from API"
   ]
  },
  {
   "cell_type": "code",
   "execution_count": null,
   "metadata": {},
   "outputs": [],
   "source": [
    "url = \"https://xeno-canto.org/api/2/recordings?query=\"\n",
    "\n",
    "def enregistrer_mp3(url_api, nom_fichier):\n",
    "    reponse = requests.get(url_api, stream=True)\n",
    "    \n",
    "    if reponse.status_code == 200:\n",
    "        with open(nom_fichier, 'wb') as fichier_audio:\n",
    "            reponse.raw.decode_content = True\n",
    "            shutil.copyfileobj(reponse.raw, fichier_audio)\n",
    "        print(\"Audio enregistré avec succès sous le nom :\", nom_fichier)\n",
    "    else:\n",
    "        print(\"Erreur lors de la récupération des données audio depuis l'API\")\n",
    "\n",
    "def getData(query):\n",
    "    url_api = url + query\n",
    "    response = requests.get(url_api)\n",
    "\n",
    "    if response.status_code == 200:\n",
    "        contenu = response.json()[\"recordings\"]\n",
    "        pathToDir = \"./data/\" + query\n",
    "\n",
    "        if not os.path.exists(pathToDir):\n",
    "            os.mkdir(pathToDir)\n",
    "\n",
    "            for _, element in zip(range(250), contenu):\n",
    "                elementUrl = element[\"file\"]\n",
    "                elementFileName = element[\"file-name\"]\n",
    "                storeFile = pathToDir + \"/\" + elementFileName\n",
    "                \n",
    "                if not os.path.exists(storeFile):\n",
    "                    try:\n",
    "                        enregistrer_mp3(elementUrl, storeFile)\n",
    "                    except: # Pour les problèmes de noms de fichiers\n",
    "                        pass\n",
    "\n",
    "for query in listQuery:\n",
    "    getData(query)"
   ]
  },
  {
   "cell_type": "markdown",
   "metadata": {},
   "source": [
    "## Import library to train model"
   ]
  },
  {
   "cell_type": "code",
   "execution_count": 129,
   "metadata": {},
   "outputs": [],
   "source": [
    "from sklearn import model_selection\n",
    "from pathlib import Path\n",
    "import librosa\n",
    "import copy\n",
    "import numpy as np\n",
    "import tensorflow as tf\n",
    "from keras.models import Sequential\n",
    "from keras.layers import Input, Conv1D, MaxPool1D, Flatten, Dense, AvgPool1D, Activation\n",
    "from keras.utils import get_file\n",
    "from keras.activations import softmax\n",
    "from keras.utils import to_categorical\n",
    "\n",
    "dataset_dir = Path('data')"
   ]
  },
  {
   "cell_type": "markdown",
   "metadata": {},
   "source": [
    "## Load all sound in X and Y"
   ]
  },
  {
   "cell_type": "code",
   "execution_count": 130,
   "metadata": {},
   "outputs": [],
   "source": [
    "x = []\n",
    "y = []\n",
    "\n",
    "def slice_audio_with_trim(file_path, index, duration=1):\n",
    "    audio_data, sampling_rate = librosa.load(file_path, sr=None)\n",
    "    non_silent_audio, _ = librosa.effects.trim(audio_data)\n",
    "    num_slices = int(len(non_silent_audio) / sampling_rate / duration)\n",
    "\n",
    "    # Diviser l'audio en fonction de duration\n",
    "    for i in range(num_slices):\n",
    "        start = i * sampling_rate * duration\n",
    "        end = start + sampling_rate * duration\n",
    "        slice_data = non_silent_audio[start:end]\n",
    "\n",
    "        data = slice_data.astype(np.float32)\n",
    "        data.resize((16000, 1))\n",
    "\n",
    "        x.append(data)\n",
    "        y.append(index)\n",
    "\n",
    "def getAllDataClasses(directory, index):\n",
    "    for recording in dataset_dir.glob(f'{directory}/*'):\n",
    "        slice_audio_with_trim(str(recording) ,index)\n",
    "\n",
    "def loadAllData():\n",
    "    for i in range(len(listQuery)):\n",
    "        getAllDataClasses(listQuery[i], i)\n",
    "\n",
    "loadAllData()"
   ]
  },
  {
   "cell_type": "code",
   "execution_count": 131,
   "metadata": {},
   "outputs": [
    {
     "name": "stdout",
     "output_type": "stream",
     "text": [
      "[0 1 2]\n",
      "[   0 1121 2242]\n",
      "[1121 1121 1121]\n"
     ]
    }
   ],
   "source": [
    "u, indexes, counts = np.unique(y, return_index=True, return_counts=True)\n",
    "min = np.min(counts)\n",
    "nbrClasses = len(u)\n",
    "\n",
    "indices = np.random.permutation(min)\n",
    "\n",
    "newX = []\n",
    "newY = []\n",
    "\n",
    "for i in range(nbrClasses):\n",
    "    sousSetX = []\n",
    "    sousSetY = []\n",
    "    \n",
    "    if i == nbrClasses - 1:\n",
    "        sousSetX = x[indexes[i]:]\n",
    "        sousSetY = y[indexes[i]:]\n",
    "    else:\n",
    "        sousSetX = x[indexes[i] : indexes[i + 1]]\n",
    "        sousSetY = y[indexes[i] : indexes[i + 1]]\n",
    "    \n",
    "    x_selectionne = [sousSetX[j] for j in indices]\n",
    "    y_selectionne = [sousSetY[j] for j in indices]\n",
    "\n",
    "    for x_s, y_s in zip(x_selectionne, y_selectionne):\n",
    "        newX.append(x_s)\n",
    "        newY.append(y_s)\n",
    "\n",
    "u, indexes, counts = np.unique(newY, return_index=True, return_counts=True)\n",
    "print(u)\n",
    "print(indexes)\n",
    "print(counts)"
   ]
  },
  {
   "cell_type": "code",
   "execution_count": 132,
   "metadata": {},
   "outputs": [],
   "source": [
    "x_train, x_test, y_train, y_test = model_selection.train_test_split(newX, newY, test_size=0.2)\n",
    "\n",
    "x_train = np.array(x_train)\n",
    "x_test = np.array(x_test)\n",
    "y_train = to_categorical(np.array(y_train))\n",
    "y_test = to_categorical(np.array(y_test))\n",
    "\n",
    "perms = np.random.permutation(len(y_test))[0:250]\n",
    "\n",
    "x_test_250 = x_test[perms]\n",
    "y_test_250 = y_test[perms]\n",
    "\n",
    "np.savetxt('x_test_gsc_250.csv', x_test_250.reshape((x_test_250.shape[0], -1)), delimiter=',', fmt='%s')\n",
    "np.savetxt('y_test_gsc_250.csv', y_test_250, delimiter=',', fmt='%s')\n"
   ]
  },
  {
   "cell_type": "code",
   "execution_count": 133,
   "metadata": {},
   "outputs": [
    {
     "name": "stdout",
     "output_type": "stream",
     "text": [
      "(2690, 16000, 1) (673, 16000, 1)\n",
      "(2690, 3) (673, 3)\n"
     ]
    }
   ],
   "source": [
    "print(x_train.shape, x_test.shape)\n",
    "print(y_train.shape, y_test.shape)"
   ]
  },
  {
   "cell_type": "code",
   "execution_count": 134,
   "metadata": {},
   "outputs": [
    {
     "name": "stdout",
     "output_type": "stream",
     "text": [
      "Model: \"sequential_14\"\n",
      "_________________________________________________________________\n",
      " Layer (type)                Output Shape              Param #   \n",
      "=================================================================\n",
      " max_pooling1d_68 (MaxPoolin  (None, 1333, 1)          0         \n",
      " g1D)                                                            \n",
      "                                                                 \n",
      " conv1d_56 (Conv1D)          (None, 1331, 16)          64        \n",
      "                                                                 \n",
      " max_pooling1d_69 (MaxPoolin  (None, 332, 16)          0         \n",
      " g1D)                                                            \n",
      "                                                                 \n",
      " conv1d_57 (Conv1D)          (None, 330, 30)           1470      \n",
      "                                                                 \n",
      " max_pooling1d_70 (MaxPoolin  (None, 82, 30)           0         \n",
      " g1D)                                                            \n",
      "                                                                 \n",
      " average_pooling1d_14 (Avera  (None, 41, 30)           0         \n",
      " gePooling1D)                                                    \n",
      "                                                                 \n",
      " conv1d_58 (Conv1D)          (None, 39, 4)             364       \n",
      "                                                                 \n",
      " max_pooling1d_71 (MaxPoolin  (None, 4, 4)             0         \n",
      " g1D)                                                            \n",
      "                                                                 \n",
      " conv1d_59 (Conv1D)          (None, 2, 32)             416       \n",
      "                                                                 \n",
      " max_pooling1d_72 (MaxPoolin  (None, 1, 32)            0         \n",
      " g1D)                                                            \n",
      "                                                                 \n",
      " flatten_12 (Flatten)        (None, 32)                0         \n",
      "                                                                 \n",
      " dense_12 (Dense)            (None, 3)                 99        \n",
      "                                                                 \n",
      " activation_12 (Activation)  (None, 3)                 0         \n",
      "                                                                 \n",
      "=================================================================\n",
      "Total params: 2,413\n",
      "Trainable params: 2,413\n",
      "Non-trainable params: 0\n",
      "_________________________________________________________________\n"
     ]
    }
   ],
   "source": [
    "model = Sequential()\n",
    "model.add(Input(shape=(16000, 1)))\n",
    "model.add(MaxPool1D(pool_size=12))\n",
    "model.add(Conv1D(filters=16, kernel_size=3, activation='relu'))\n",
    "model.add(MaxPool1D(pool_size=4))\n",
    "model.add(Conv1D(filters=30, kernel_size=3, activation='relu'))\n",
    "model.add(MaxPool1D(pool_size=4))\n",
    "model.add(AvgPool1D())\n",
    "model.add(Conv1D(filters=4, kernel_size=3, activation='relu'))\n",
    "model.add(MaxPool1D(pool_size=8))\n",
    "model.add(Conv1D(filters=32, kernel_size=3, activation='relu'))\n",
    "model.add(MaxPool1D(pool_size=2))\n",
    "model.add(Flatten())\n",
    "model.add(Dense(units=3))\n",
    "model.add(Activation('softmax')) # SoftMax activation needs to be separate from Dense to remove it later on\n",
    "# EXPLORE Learning Rate\n",
    "opt = tf.keras.optimizers.Adam(learning_rate=10e-4)\n",
    "model.summary()\n",
    "model.compile(optimizer=opt, loss='categorical_crossentropy', metrics=['categorical_accuracy'])"
   ]
  },
  {
   "cell_type": "code",
   "execution_count": 135,
   "metadata": {},
   "outputs": [
    {
     "name": "stdout",
     "output_type": "stream",
     "text": [
      "Epoch 1/50\n",
      "11/11 [==============================] - 3s 134ms/step - loss: 1.0984 - categorical_accuracy: 0.3799 - val_loss: 1.0977 - val_categorical_accuracy: 0.5201\n",
      "Epoch 2/50\n",
      "11/11 [==============================] - 1s 100ms/step - loss: 1.0968 - categorical_accuracy: 0.4662 - val_loss: 1.0958 - val_categorical_accuracy: 0.5022\n",
      "Epoch 3/50\n",
      "11/11 [==============================] - 1s 109ms/step - loss: 1.0936 - categorical_accuracy: 0.5364 - val_loss: 1.0913 - val_categorical_accuracy: 0.5483\n",
      "Epoch 4/50\n",
      "11/11 [==============================] - 1s 106ms/step - loss: 1.0872 - categorical_accuracy: 0.5662 - val_loss: 1.0819 - val_categorical_accuracy: 0.6062\n",
      "Epoch 5/50\n",
      "11/11 [==============================] - 1s 91ms/step - loss: 1.0749 - categorical_accuracy: 0.6119 - val_loss: 1.0665 - val_categorical_accuracy: 0.6152\n",
      "Epoch 6/50\n",
      "11/11 [==============================] - 1s 109ms/step - loss: 1.0557 - categorical_accuracy: 0.6045 - val_loss: 1.0470 - val_categorical_accuracy: 0.6211\n",
      "Epoch 7/50\n",
      "11/11 [==============================] - 1s 96ms/step - loss: 1.0359 - categorical_accuracy: 0.5714 - val_loss: 1.0262 - val_categorical_accuracy: 0.5958\n",
      "Epoch 8/50\n",
      "11/11 [==============================] - 1s 100ms/step - loss: 1.0160 - categorical_accuracy: 0.5755 - val_loss: 1.0068 - val_categorical_accuracy: 0.6241\n",
      "Epoch 9/50\n",
      "11/11 [==============================] - 1s 89ms/step - loss: 0.9966 - categorical_accuracy: 0.6134 - val_loss: 0.9837 - val_categorical_accuracy: 0.6464\n",
      "Epoch 10/50\n",
      "11/11 [==============================] - 1s 102ms/step - loss: 0.9727 - categorical_accuracy: 0.6193 - val_loss: 0.9578 - val_categorical_accuracy: 0.6404\n",
      "Epoch 11/50\n",
      "11/11 [==============================] - 1s 89ms/step - loss: 0.9467 - categorical_accuracy: 0.6305 - val_loss: 0.9291 - val_categorical_accuracy: 0.6612\n",
      "Epoch 12/50\n",
      "11/11 [==============================] - 1s 106ms/step - loss: 0.9180 - categorical_accuracy: 0.6639 - val_loss: 0.9017 - val_categorical_accuracy: 0.6731\n",
      "Epoch 13/50\n",
      "11/11 [==============================] - 1s 116ms/step - loss: 0.8959 - categorical_accuracy: 0.6799 - val_loss: 0.8755 - val_categorical_accuracy: 0.6895\n",
      "Epoch 14/50\n",
      "11/11 [==============================] - 1s 109ms/step - loss: 0.8728 - categorical_accuracy: 0.6862 - val_loss: 0.8576 - val_categorical_accuracy: 0.7192\n",
      "Epoch 15/50\n",
      "11/11 [==============================] - 1s 136ms/step - loss: 0.8437 - categorical_accuracy: 0.7138 - val_loss: 0.8272 - val_categorical_accuracy: 0.7117\n",
      "Epoch 16/50\n",
      "11/11 [==============================] - 1s 133ms/step - loss: 0.8199 - categorical_accuracy: 0.7134 - val_loss: 0.8173 - val_categorical_accuracy: 0.7013\n",
      "Epoch 17/50\n",
      "11/11 [==============================] - 1s 105ms/step - loss: 0.8020 - categorical_accuracy: 0.7346 - val_loss: 0.7827 - val_categorical_accuracy: 0.7474\n",
      "Epoch 18/50\n",
      "11/11 [==============================] - 1s 117ms/step - loss: 0.7743 - categorical_accuracy: 0.7242 - val_loss: 0.7602 - val_categorical_accuracy: 0.7519\n",
      "Epoch 19/50\n",
      "11/11 [==============================] - 1s 106ms/step - loss: 0.7516 - categorical_accuracy: 0.7539 - val_loss: 0.7410 - val_categorical_accuracy: 0.7697\n",
      "Epoch 20/50\n",
      "11/11 [==============================] - 1s 115ms/step - loss: 0.7308 - categorical_accuracy: 0.7580 - val_loss: 0.7190 - val_categorical_accuracy: 0.7608\n",
      "Epoch 21/50\n",
      "11/11 [==============================] - 1s 111ms/step - loss: 0.7112 - categorical_accuracy: 0.7584 - val_loss: 0.7049 - val_categorical_accuracy: 0.7727\n",
      "Epoch 22/50\n",
      "11/11 [==============================] - 1s 119ms/step - loss: 0.6920 - categorical_accuracy: 0.7654 - val_loss: 0.6882 - val_categorical_accuracy: 0.7801\n",
      "Epoch 23/50\n",
      "11/11 [==============================] - 1s 113ms/step - loss: 0.6733 - categorical_accuracy: 0.7777 - val_loss: 0.6714 - val_categorical_accuracy: 0.7875\n",
      "Epoch 24/50\n",
      "11/11 [==============================] - 1s 107ms/step - loss: 0.6575 - categorical_accuracy: 0.7770 - val_loss: 0.6598 - val_categorical_accuracy: 0.7935\n",
      "Epoch 25/50\n",
      "11/11 [==============================] - 1s 103ms/step - loss: 0.6437 - categorical_accuracy: 0.7829 - val_loss: 0.6472 - val_categorical_accuracy: 0.7949\n",
      "Epoch 26/50\n",
      "11/11 [==============================] - 1s 118ms/step - loss: 0.6308 - categorical_accuracy: 0.7877 - val_loss: 0.6487 - val_categorical_accuracy: 0.7816\n",
      "Epoch 27/50\n",
      "11/11 [==============================] - 1s 96ms/step - loss: 0.6366 - categorical_accuracy: 0.7799 - val_loss: 0.6281 - val_categorical_accuracy: 0.7994\n",
      "Epoch 28/50\n",
      "11/11 [==============================] - 1s 108ms/step - loss: 0.6115 - categorical_accuracy: 0.7911 - val_loss: 0.6187 - val_categorical_accuracy: 0.7979\n",
      "Epoch 29/50\n",
      "11/11 [==============================] - 1s 101ms/step - loss: 0.6027 - categorical_accuracy: 0.7911 - val_loss: 0.6120 - val_categorical_accuracy: 0.8039\n",
      "Epoch 30/50\n",
      "11/11 [==============================] - 1s 106ms/step - loss: 0.5951 - categorical_accuracy: 0.7978 - val_loss: 0.6073 - val_categorical_accuracy: 0.8009\n",
      "Epoch 31/50\n",
      "11/11 [==============================] - 1s 109ms/step - loss: 0.5901 - categorical_accuracy: 0.8026 - val_loss: 0.6037 - val_categorical_accuracy: 0.8024\n",
      "Epoch 32/50\n",
      "11/11 [==============================] - 1s 103ms/step - loss: 0.5827 - categorical_accuracy: 0.8056 - val_loss: 0.5923 - val_categorical_accuracy: 0.7994\n",
      "Epoch 33/50\n",
      "11/11 [==============================] - 1s 105ms/step - loss: 0.5831 - categorical_accuracy: 0.7937 - val_loss: 0.5939 - val_categorical_accuracy: 0.8039\n",
      "Epoch 34/50\n",
      "11/11 [==============================] - 1s 93ms/step - loss: 0.5729 - categorical_accuracy: 0.8071 - val_loss: 0.5871 - val_categorical_accuracy: 0.8098\n",
      "Epoch 35/50\n",
      "11/11 [==============================] - 1s 101ms/step - loss: 0.5685 - categorical_accuracy: 0.8052 - val_loss: 0.5765 - val_categorical_accuracy: 0.8068\n",
      "Epoch 36/50\n",
      "11/11 [==============================] - 1s 95ms/step - loss: 0.5648 - categorical_accuracy: 0.8007 - val_loss: 0.5761 - val_categorical_accuracy: 0.8068\n",
      "Epoch 37/50\n",
      "11/11 [==============================] - 1s 102ms/step - loss: 0.5556 - categorical_accuracy: 0.8100 - val_loss: 0.5675 - val_categorical_accuracy: 0.8098\n",
      "Epoch 38/50\n",
      "11/11 [==============================] - 1s 96ms/step - loss: 0.5592 - categorical_accuracy: 0.8041 - val_loss: 0.5748 - val_categorical_accuracy: 0.7935\n",
      "Epoch 39/50\n",
      "11/11 [==============================] - 1s 106ms/step - loss: 0.5479 - categorical_accuracy: 0.8089 - val_loss: 0.5701 - val_categorical_accuracy: 0.8039\n",
      "Epoch 40/50\n",
      "11/11 [==============================] - 1s 102ms/step - loss: 0.5503 - categorical_accuracy: 0.8093 - val_loss: 0.5824 - val_categorical_accuracy: 0.8009\n",
      "Epoch 41/50\n",
      "11/11 [==============================] - 1s 99ms/step - loss: 0.5531 - categorical_accuracy: 0.8030 - val_loss: 0.5729 - val_categorical_accuracy: 0.7964\n",
      "Epoch 42/50\n",
      "11/11 [==============================] - 1s 104ms/step - loss: 0.5381 - categorical_accuracy: 0.8074 - val_loss: 0.5530 - val_categorical_accuracy: 0.8083\n",
      "Epoch 43/50\n",
      "11/11 [==============================] - 1s 91ms/step - loss: 0.5349 - categorical_accuracy: 0.8145 - val_loss: 0.5461 - val_categorical_accuracy: 0.8113\n",
      "Epoch 44/50\n",
      "11/11 [==============================] - 1s 104ms/step - loss: 0.5364 - categorical_accuracy: 0.8134 - val_loss: 0.5468 - val_categorical_accuracy: 0.8024\n",
      "Epoch 45/50\n",
      "11/11 [==============================] - 1s 102ms/step - loss: 0.5230 - categorical_accuracy: 0.8160 - val_loss: 0.5428 - val_categorical_accuracy: 0.8128\n",
      "Epoch 46/50\n",
      "11/11 [==============================] - 1s 114ms/step - loss: 0.5186 - categorical_accuracy: 0.8134 - val_loss: 0.5400 - val_categorical_accuracy: 0.8158\n",
      "Epoch 47/50\n",
      "11/11 [==============================] - 1s 109ms/step - loss: 0.5154 - categorical_accuracy: 0.8201 - val_loss: 0.5383 - val_categorical_accuracy: 0.8113\n",
      "Epoch 48/50\n",
      "11/11 [==============================] - 1s 110ms/step - loss: 0.5136 - categorical_accuracy: 0.8178 - val_loss: 0.5377 - val_categorical_accuracy: 0.8098\n",
      "Epoch 49/50\n",
      "11/11 [==============================] - 1s 113ms/step - loss: 0.5180 - categorical_accuracy: 0.8234 - val_loss: 0.5298 - val_categorical_accuracy: 0.8158\n",
      "Epoch 50/50\n",
      "11/11 [==============================] - 1s 94ms/step - loss: 0.5082 - categorical_accuracy: 0.8186 - val_loss: 0.5284 - val_categorical_accuracy: 0.8172\n"
     ]
    },
    {
     "data": {
      "text/plain": [
       "<keras.callbacks.History at 0x18e66f61520>"
      ]
     },
     "execution_count": 135,
     "metadata": {},
     "output_type": "execute_result"
    }
   ],
   "source": [
    "model.fit(x_train, y_train, epochs=50, batch_size=268, validation_data=(x_test, y_test))\n",
    "# model.fit(x_train, y_train, epochs=25, batch_size=268, validation_data=(x_test, y_test))"
   ]
  },
  {
   "cell_type": "code",
   "execution_count": 136,
   "metadata": {},
   "outputs": [
    {
     "name": "stdout",
     "output_type": "stream",
     "text": [
      "22/22 - 0s - loss: 0.5284 - categorical_accuracy: 0.8172 - 216ms/epoch - 10ms/step\n",
      "22/22 [==============================] - 0s 6ms/step\n",
      "tf.Tensor(\n",
      "[[188  20  23]\n",
      " [ 29 169  17]\n",
      " [ 29   5 193]], shape=(3, 3), dtype=int32)\n"
     ]
    }
   ],
   "source": [
    "model.evaluate(x_test, y_test, verbose=2)\n",
    "pred_test = model.predict(x_test)\n",
    "print(tf.math.confusion_matrix(y_test.argmax(axis=1), pred_test.argmax(axis=1)))"
   ]
  },
  {
   "cell_type": "code",
   "execution_count": 137,
   "metadata": {},
   "outputs": [
    {
     "name": "stdout",
     "output_type": "stream",
     "text": [
      "8/8 - 0s - loss: 0.5674 - categorical_accuracy: 0.7880 - 67ms/epoch - 8ms/step\n",
      "8/8 [==============================] - 0s 7ms/step\n",
      "tf.Tensor(\n",
      "[[70  6 11]\n",
      " [16 59  5]\n",
      " [13  2 68]], shape=(3, 3), dtype=int32)\n"
     ]
    }
   ],
   "source": [
    "model.evaluate(x_test_250, y_test_250, verbose=2)\n",
    "pred_test_250 = model.predict(x_test_250)\n",
    "print(tf.math.confusion_matrix(y_test_250.argmax(axis=1), pred_test_250.argmax(axis=1)))"
   ]
  },
  {
   "cell_type": "code",
   "execution_count": 138,
   "metadata": {},
   "outputs": [],
   "source": [
    "model.save('project.h5')"
   ]
  },
  {
   "cell_type": "code",
   "execution_count": 139,
   "metadata": {},
   "outputs": [],
   "source": [
    "if isinstance(model.layers[-1], Activation) and model.layers[-1].activation == softmax:\n",
    "    model = tf.keras.Model(model.input, model.layers[-2].output, name=model.name)\n",
    "else:\n",
    "    print('Error: last layer is not SoftMax Activation')"
   ]
  },
  {
   "cell_type": "code",
   "execution_count": 140,
   "metadata": {},
   "outputs": [
    {
     "name": "stdout",
     "output_type": "stream",
     "text": [
      "Requirement already satisfied: qualia_codegen_core in c:\\users\\bobca\\appdata\\local\\programs\\python\\python39\\lib\\site-packages (2.2.0)\n",
      "Requirement already satisfied: jinja2 in c:\\users\\bobca\\appdata\\local\\programs\\python\\python39\\lib\\site-packages (from qualia_codegen_core) (3.1.3)\n",
      "Requirement already satisfied: numpy in c:\\users\\bobca\\appdata\\local\\programs\\python\\python39\\lib\\site-packages (from qualia_codegen_core) (1.24.2)\n",
      "Requirement already satisfied: typing_extensions in c:\\users\\bobca\\appdata\\local\\programs\\python\\python39\\lib\\site-packages (from qualia_codegen_core) (4.11.0)\n",
      "Requirement already satisfied: MarkupSafe>=2.0 in c:\\users\\bobca\\appdata\\local\\programs\\python\\python39\\lib\\site-packages (from jinja2->qualia_codegen_core) (2.1.5)\n",
      "Note: you may need to restart the kernel to use updated packages.\n"
     ]
    }
   ],
   "source": [
    "%pip install qualia_codegen_core\n",
    "import qualia_codegen_core\n",
    "from qualia_codegen_core.graph.KerasModelGraph import KerasModelGraph\n",
    "from qualia_codegen_core.graph.Quantization import Quantization\n",
    "from qualia_codegen_core.graph.RoundMode import RoundMode\n",
    "\n",
    "from importlib.resources import files\n",
    "main_path = str((files('qualia_codegen_core.examples')/'Linux'/'main.cpp').resolve())"
   ]
  },
  {
   "cell_type": "code",
   "execution_count": 141,
   "metadata": {},
   "outputs": [
    {
     "name": "stdout",
     "output_type": "stream",
     "text": [
      "—————————————————————————————————————————————————————————————————————————————————————————————————————————————————————————————————————————————————————————————————————————————————————————————————————————————————————————————————————————————————————————————\n",
      "Inputs                                           | Layer                                            | Outputs                                          | Input shape                                      | Output shape                                    \n",
      "—————————————————————————————————————————————————————————————————————————————————————————————————————————————————————————————————————————————————————————————————————————————————————————————————————————————————————————————————————————————————————————————\n",
      "                                                 | input_15                                         | max_pooling1d_68                                 | (1, 16000, 1)                                    | ((1, 16000, 1),)                                \n",
      "-------------------------------------------------------------------------------------------------------------------------------------------------------------------------------------------------------------------------------------------------------------\n",
      "input_15                                         | max_pooling1d_68                                 | conv1d_56                                        | (1, 16000, 1)                                    | ((1, 1333, 1),)                                 \n",
      "-------------------------------------------------------------------------------------------------------------------------------------------------------------------------------------------------------------------------------------------------------------\n",
      "max_pooling1d_68                                 | conv1d_56                                        | max_pooling1d_69                                 | (1, 1333, 1)                                     | ((1, 1331, 16),)                                \n",
      "-------------------------------------------------------------------------------------------------------------------------------------------------------------------------------------------------------------------------------------------------------------\n",
      "conv1d_56                                        | max_pooling1d_69                                 | conv1d_57                                        | (1, 1331, 16)                                    | ((1, 332, 16),)                                 \n",
      "-------------------------------------------------------------------------------------------------------------------------------------------------------------------------------------------------------------------------------------------------------------\n",
      "max_pooling1d_69                                 | conv1d_57                                        | max_pooling1d_70                                 | (1, 332, 16)                                     | ((1, 330, 30),)                                 \n",
      "-------------------------------------------------------------------------------------------------------------------------------------------------------------------------------------------------------------------------------------------------------------\n",
      "conv1d_57                                        | max_pooling1d_70                                 | average_pooling1d_14                             | (1, 330, 30)                                     | ((1, 82, 30),)                                  \n",
      "-------------------------------------------------------------------------------------------------------------------------------------------------------------------------------------------------------------------------------------------------------------\n",
      "max_pooling1d_70                                 | average_pooling1d_14                             | conv1d_58                                        | (1, 82, 30)                                      | ((1, 41, 30),)                                  \n",
      "-------------------------------------------------------------------------------------------------------------------------------------------------------------------------------------------------------------------------------------------------------------\n",
      "average_pooling1d_14                             | conv1d_58                                        | max_pooling1d_71                                 | (1, 41, 30)                                      | ((1, 39, 4),)                                   \n",
      "-------------------------------------------------------------------------------------------------------------------------------------------------------------------------------------------------------------------------------------------------------------\n",
      "conv1d_58                                        | max_pooling1d_71                                 | conv1d_59                                        | (1, 39, 4)                                       | ((1, 4, 4),)                                    \n",
      "-------------------------------------------------------------------------------------------------------------------------------------------------------------------------------------------------------------------------------------------------------------\n",
      "max_pooling1d_71                                 | conv1d_59                                        | max_pooling1d_72                                 | (1, 4, 4)                                        | ((1, 2, 32),)                                   \n",
      "-------------------------------------------------------------------------------------------------------------------------------------------------------------------------------------------------------------------------------------------------------------\n",
      "conv1d_59                                        | max_pooling1d_72                                 | flatten_12                                       | (1, 2, 32)                                       | ((1, 1, 32),)                                   \n",
      "-------------------------------------------------------------------------------------------------------------------------------------------------------------------------------------------------------------------------------------------------------------\n",
      "max_pooling1d_72                                 | flatten_12                                       | dense_12                                         | (1, 1, 32)                                       | ((1, 32),)                                      \n",
      "-------------------------------------------------------------------------------------------------------------------------------------------------------------------------------------------------------------------------------------------------------------\n",
      "flatten_12                                       | dense_12                                         |                                                  | (1, 32)                                          | ((1, 3),)                                       \n",
      "-------------------------------------------------------------------------------------------------------------------------------------------------------------------------------------------------------------------------------------------------------------\n",
      "\n"
     ]
    }
   ],
   "source": [
    "modelgraph = KerasModelGraph(model).convert()\n",
    "print(modelgraph)"
   ]
  },
  {
   "cell_type": "code",
   "execution_count": 142,
   "metadata": {},
   "outputs": [
    {
     "name": "stdout",
     "output_type": "stream",
     "text": [
      "Keras weights file (<HDF5 file \"variables.h5\" (mode r+)>) saving:\n",
      "...layers\\average_pooling1d\n",
      "......vars\n",
      "...layers\\conv1d\n",
      "......vars\n",
      ".........0\n",
      ".........1\n",
      "...layers\\conv1d_1\n",
      "......vars\n",
      ".........0\n",
      ".........1\n",
      "...layers\\conv1d_2\n",
      "......vars\n",
      ".........0\n",
      ".........1\n",
      "...layers\\conv1d_3\n",
      "......vars\n",
      ".........0\n",
      ".........1\n",
      "...layers\\dense\n",
      "......vars\n",
      ".........0\n",
      ".........1\n",
      "...layers\\flatten\n",
      "......vars\n",
      "...layers\\input_layer\n",
      "......vars\n",
      "...layers\\max_pooling1d\n",
      "......vars\n",
      "...layers\\max_pooling1d_1\n",
      "......vars\n",
      "...layers\\max_pooling1d_2\n",
      "......vars\n",
      "...layers\\max_pooling1d_3\n",
      "......vars\n",
      "...layers\\max_pooling1d_4\n",
      "......vars\n",
      "...vars\n",
      "Keras model archive saving:\n",
      "File Name                                             Modified             Size\n",
      "config.json                                    2024-04-28 15:18:00         5312\n",
      "metadata.json                                  2024-04-28 15:18:00           64\n",
      "variables.h5                                   2024-04-28 15:18:00        39232\n",
      "Keras model archive loading:\n",
      "File Name                                             Modified             Size\n",
      "config.json                                    2024-04-28 15:18:00         5312\n",
      "metadata.json                                  2024-04-28 15:18:00           64\n",
      "variables.h5                                   2024-04-28 15:18:00        39232\n"
     ]
    },
    {
     "name": "stderr",
     "output_type": "stream",
     "text": [
      "Graphviz not available\n"
     ]
    },
    {
     "name": "stdout",
     "output_type": "stream",
     "text": [
      "Keras weights file (<HDF5 file \"variables.h5\" (mode r)>) loading:\n",
      "...layers\\average_pooling1d\n",
      "......vars\n",
      "...layers\\conv1d\n",
      "......vars\n",
      ".........0\n",
      ".........1\n",
      "...layers\\conv1d_1\n",
      "......vars\n",
      ".........0\n",
      ".........1\n",
      "...layers\\conv1d_2\n",
      "......vars\n",
      ".........0\n",
      ".........1\n",
      "...layers\\conv1d_3\n",
      "......vars\n",
      ".........0\n",
      ".........1\n",
      "...layers\\dense\n",
      "......vars\n",
      ".........0\n",
      ".........1\n",
      "...layers\\flatten\n",
      "......vars\n",
      "...layers\\input_layer\n",
      "......vars\n",
      "...layers\\max_pooling1d\n",
      "......vars\n",
      "...layers\\max_pooling1d_1\n",
      "......vars\n",
      "...layers\\max_pooling1d_2\n",
      "......vars\n",
      "...layers\\max_pooling1d_3\n",
      "......vars\n",
      "...layers\\max_pooling1d_4\n",
      "......vars\n",
      "...vars\n"
     ]
    }
   ],
   "source": [
    "float_modelgraph = copy.deepcopy(modelgraph)\n",
    "\n",
    "# layer quantization annotations for float32\n",
    "for node in float_modelgraph.nodes:\n",
    "    # No scale factor if not fixed-point quantization on integers\n",
    "    node.q = Quantization(\n",
    "            number_type=float,\n",
    "            width=32,\n",
    "            long_width=32,\n",
    "            weights_scale_factor=0,\n",
    "            output_scale_factor=0,\n",
    "            weights_round_mode=RoundMode.NONE,\n",
    "            output_round_mode=RoundMode.NONE,\n",
    "            )\n",
    "\n",
    "float_res = qualia_codegen_core.Converter(output_path=Path('gsc_output_floating')).convert_model(float_modelgraph)\n",
    "\n",
    "with open('gsc_model_floating.h', 'w') as f:\n",
    "    f.write(float_res)"
   ]
  },
  {
   "cell_type": "code",
   "execution_count": 143,
   "metadata": {},
   "outputs": [
    {
     "name": "stderr",
     "output_type": "stream",
     "text": [
      "In file included from gsc_output_floating/model.c:15:\n",
      "gsc_output_floating/include/number.h: In function 'float scale_number_t_float(float, int, round_mode_t)':\n",
      "gsc_output_floating/include/number.h:73:21: warning: unused parameter 'scale_factor' [-Wunused-parameter]\n",
      "   73 |   float number, int scale_factor, round_mode_t round_mode) {\n",
      "      |                 ~~~~^~~~~~~~~~~~\n",
      "gsc_output_floating/include/number.h:73:48: warning: unused parameter 'round_mode' [-Wunused-parameter]\n",
      "   73 |   float number, int scale_factor, round_mode_t round_mode) {\n",
      "      |                                   ~~~~~~~~~~~~~^~~~~~~~~~\n",
      "gsc_output_floating/include/number.h: In function 'float scale_and_clamp_to_number_t_float(float, int, round_mode_t)':\n",
      "gsc_output_floating/include/number.h:81:21: warning: unused parameter 'scale_factor' [-Wunused-parameter]\n",
      "   81 |   float number, int scale_factor, round_mode_t round_mode) {\n",
      "      |                 ~~~~^~~~~~~~~~~~\n",
      "gsc_output_floating/include/number.h:81:48: warning: unused parameter 'round_mode' [-Wunused-parameter]\n",
      "   81 |   float number, int scale_factor, round_mode_t round_mode) {\n",
      "      |                                   ~~~~~~~~~~~~~^~~~~~~~~~\n",
      "In file included from gsc_output_floating/include/model.h:19,\n",
      "                 from C:\\Users\\bobca\\AppData\\Local\\Programs\\Python\\Python39\\Lib\\site-packages\\qualia_codegen_core\\examples\\Linux\\main.cpp:12:\n",
      "gsc_output_floating/include/number.h: In function 'float scale_number_t_float(float, int, round_mode_t)':\n",
      "gsc_output_floating/include/number.h:73:21: warning: unused parameter 'scale_factor' [-Wunused-parameter]\n",
      "   73 |   float number, int scale_factor, round_mode_t round_mode) {\n",
      "      |                 ~~~~^~~~~~~~~~~~\n",
      "gsc_output_floating/include/number.h:73:48: warning: unused parameter 'round_mode' [-Wunused-parameter]\n",
      "   73 |   float number, int scale_factor, round_mode_t round_mode) {\n",
      "      |                                   ~~~~~~~~~~~~~^~~~~~~~~~\n",
      "gsc_output_floating/include/number.h: In function 'float scale_and_clamp_to_number_t_float(float, int, round_mode_t)':\n",
      "gsc_output_floating/include/number.h:81:21: warning: unused parameter 'scale_factor' [-Wunused-parameter]\n",
      "   81 |   float number, int scale_factor, round_mode_t round_mode) {\n",
      "      |                 ~~~~^~~~~~~~~~~~\n",
      "gsc_output_floating/include/number.h:81:48: warning: unused parameter 'round_mode' [-Wunused-parameter]\n",
      "   81 |   float number, int scale_factor, round_mode_t round_mode) {\n",
      "      |                                   ~~~~~~~~~~~~~^~~~~~~~~~\n"
     ]
    }
   ],
   "source": [
    "!g++ -std=c++17 -Wall -Wextra -pedantic -Ofast -o gsc_fixed -include gsc_output_floating/include/defines.h -Igsc_output_floating/include gsc_output_floating/model.c {main_path}"
   ]
  },
  {
   "cell_type": "code",
   "execution_count": 144,
   "metadata": {},
   "outputs": [
    {
     "name": "stdout",
     "output_type": "stream",
     "text": [
      "Keras weights file (<HDF5 file \"variables.h5\" (mode r+)>) saving:\n",
      "...layers\\average_pooling1d\n",
      "......vars\n",
      "...layers\\conv1d\n",
      "......vars\n",
      ".........0\n",
      ".........1\n",
      "...layers\\conv1d_1\n",
      "......vars\n",
      ".........0\n",
      ".........1\n",
      "...layers\\conv1d_2\n",
      "......vars\n",
      ".........0\n",
      ".........1\n",
      "...layers\\conv1d_3\n",
      "......vars\n",
      ".........0\n",
      ".........1\n",
      "...layers\\dense\n",
      "......vars\n",
      ".........0\n",
      ".........1\n",
      "...layers\\flatten\n",
      "......vars\n",
      "...layers\\input_layer\n",
      "......vars\n",
      "...layers\\max_pooling1d\n",
      "......vars\n",
      "...layers\\max_pooling1d_1\n",
      "......vars\n",
      "...layers\\max_pooling1d_2\n",
      "......vars\n",
      "...layers\\max_pooling1d_3\n",
      "......vars\n",
      "...layers\\max_pooling1d_4\n",
      "......vars\n",
      "...vars\n",
      "Keras model archive saving:\n",
      "File Name                                             Modified             Size\n",
      "config.json                                    2024-04-28 15:18:02         5312\n",
      "metadata.json                                  2024-04-28 15:18:02           64\n",
      "variables.h5                                   2024-04-28 15:18:02        39232\n",
      "Keras model archive loading:\n",
      "File Name                                             Modified             Size\n",
      "config.json                                    2024-04-28 15:18:02         5312\n",
      "metadata.json                                  2024-04-28 15:18:02           64\n",
      "variables.h5                                   2024-04-28 15:18:02        39232\n"
     ]
    },
    {
     "name": "stderr",
     "output_type": "stream",
     "text": [
      "Graphviz not available\n"
     ]
    },
    {
     "name": "stdout",
     "output_type": "stream",
     "text": [
      "Keras weights file (<HDF5 file \"variables.h5\" (mode r)>) loading:\n",
      "...layers\\average_pooling1d\n",
      "......vars\n",
      "...layers\\conv1d\n",
      "......vars\n",
      ".........0\n",
      ".........1\n",
      "...layers\\conv1d_1\n",
      "......vars\n",
      ".........0\n",
      ".........1\n",
      "...layers\\conv1d_2\n",
      "......vars\n",
      ".........0\n",
      ".........1\n",
      "...layers\\conv1d_3\n",
      "......vars\n",
      ".........0\n",
      ".........1\n",
      "...layers\\dense\n",
      "......vars\n",
      ".........0\n",
      ".........1\n",
      "...layers\\flatten\n",
      "......vars\n",
      "...layers\\input_layer\n",
      "......vars\n",
      "...layers\\max_pooling1d\n",
      "......vars\n",
      "...layers\\max_pooling1d_1\n",
      "......vars\n",
      "...layers\\max_pooling1d_2\n",
      "......vars\n",
      "...layers\\max_pooling1d_3\n",
      "......vars\n",
      "...layers\\max_pooling1d_4\n",
      "......vars\n",
      "...vars\n"
     ]
    }
   ],
   "source": [
    "fixed_modelgraph = copy.deepcopy(modelgraph)\n",
    "\n",
    "# layer quantization annotations for int16 Q9.7\n",
    "for node in fixed_modelgraph.nodes:\n",
    "    node.q = Quantization(\n",
    "            number_type=int,\n",
    "            width=16,\n",
    "            long_width=32,\n",
    "            weights_scale_factor=7,\n",
    "            output_scale_factor=7,\n",
    "            weights_round_mode=RoundMode.FLOOR,\n",
    "            output_round_mode=RoundMode.FLOOR,\n",
    "            )\n",
    "\n",
    "fixed_res = qualia_codegen_core.Converter(output_path=Path('gsc_output_fixed')).convert_model(fixed_modelgraph)\n",
    "\n",
    "with open('gsc_model_fixed.h', 'w') as f:\n",
    "    f.write(fixed_res)"
   ]
  },
  {
   "cell_type": "code",
   "execution_count": 145,
   "metadata": {},
   "outputs": [
    {
     "name": "stderr",
     "output_type": "stream",
     "text": [
      "'.' n'est pas reconnu en tant que commande interne\n",
      "ou externe, un programme ex�cutable ou un fichier de commandes.\n"
     ]
    }
   ],
   "source": [
    "!g++ -std=c++17 -Wall -Wextra -pedantic -Ofast -o gsc_fixed -include gsc_output_fixed/include/defines.h -Igsc_output_fixed/include gsc_output_fixed/model.c {main_path}\n",
    "!./gsc_fixed x_test_gsc_250.csv y_test_gsc_250.csv"
   ]
  }
 ],
 "metadata": {
  "kernelspec": {
   "display_name": "Python 3",
   "language": "python",
   "name": "python3"
  },
  "language_info": {
   "codemirror_mode": {
    "name": "ipython",
    "version": 3
   },
   "file_extension": ".py",
   "mimetype": "text/x-python",
   "name": "python",
   "nbconvert_exporter": "python",
   "pygments_lexer": "ipython3",
   "version": "3.9.12"
  }
 },
 "nbformat": 4,
 "nbformat_minor": 2
}
