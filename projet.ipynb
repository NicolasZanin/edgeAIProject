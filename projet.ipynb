{
 "cells": [
  {
   "cell_type": "markdown",
   "metadata": {},
   "source": [
    "# Project EdgeAI"
   ]
  },
  {
   "cell_type": "markdown",
   "metadata": {},
   "source": [
    "## Import library to get data"
   ]
  },
  {
   "cell_type": "code",
   "execution_count": 5,
   "metadata": {},
   "outputs": [],
   "source": [
    "import requests, os, shutil\n",
    "\n",
    "listQuery = [\"Emberiza citrinella\", \"Alauda arvensis\", \"Emberiza cirlus\", \"Cuculus canorus\"] #, \"Tyto alba\", \"Falco tinnunculus\", \"Sylvia borin\", \"Muscicapa striata\", \"Tachybaptus ruficollis\", \"Delichon urbicum\"]"
   ]
  },
  {
   "cell_type": "markdown",
   "metadata": {},
   "source": [
    "## Import data from API"
   ]
  },
  {
   "cell_type": "code",
   "execution_count": null,
   "metadata": {},
   "outputs": [],
   "source": [
    "url = \"https://xeno-canto.org/api/2/recordings?query=\"\n",
    "\n",
    "def enregistrer_mp3(url_api, nom_fichier):\n",
    "    reponse = requests.get(url_api, stream=True)\n",
    "    \n",
    "    if reponse.status_code == 200:\n",
    "        with open(nom_fichier, 'wb') as fichier_audio:\n",
    "            reponse.raw.decode_content = True\n",
    "            shutil.copyfileobj(reponse.raw, fichier_audio)\n",
    "        print(\"Audio enregistré avec succès sous le nom :\", nom_fichier)\n",
    "    else:\n",
    "        print(\"Erreur lors de la récupération des données audio depuis l'API\")\n",
    "\n",
    "def getData(query):\n",
    "    url_api = url + query\n",
    "    response = requests.get(url_api)\n",
    "\n",
    "    if response.status_code == 200:\n",
    "        contenu = response.json()[\"recordings\"]\n",
    "        pathToDir = \"./data/\" + query\n",
    "\n",
    "        if not os.path.exists(pathToDir):\n",
    "            os.mkdir(pathToDir)\n",
    "\n",
    "            for _, element in zip(range(250), contenu):\n",
    "                elementUrl = element[\"file\"]\n",
    "                elementFileName = element[\"file-name\"]\n",
    "                storeFile = pathToDir + \"/\" + elementFileName\n",
    "                \n",
    "                if not os.path.exists(storeFile):\n",
    "                    try:\n",
    "                        enregistrer_mp3(elementUrl, storeFile)\n",
    "                    except: # Pour les problèmes de noms de fichiers\n",
    "                        pass\n",
    "\n",
    "for query in listQuery:\n",
    "    getData(query)"
   ]
  },
  {
   "cell_type": "markdown",
   "metadata": {},
   "source": [
    "## Import library to train model"
   ]
  },
  {
   "cell_type": "code",
   "execution_count": 17,
   "metadata": {},
   "outputs": [],
   "source": [
    "from sklearn import model_selection\n",
    "from pathlib import Path\n",
    "import librosa\n",
    "import copy\n",
    "import matplotlib\n",
    "import numpy as np\n",
    "import tensorflow as tf\n",
    "from keras.models import Sequential\n",
    "from keras.layers import Input, Conv1D, MaxPool1D, Flatten, Dense, AvgPool1D, Activation\n",
    "from keras.utils import get_file\n",
    "from keras.activations import softmax\n",
    "from keras.utils import to_categorical\n",
    "\n",
    "dataset_dir = Path('data')"
   ]
  },
  {
   "cell_type": "markdown",
   "metadata": {},
   "source": [
    "## Load all sound in X and Y"
   ]
  },
  {
   "cell_type": "code",
   "execution_count": 6,
   "metadata": {},
   "outputs": [],
   "source": [
    "x = []\n",
    "y = []\n",
    "\n",
    "def slice_audio_with_trim(file_path, index, duration=1):\n",
    "    audio_data, sampling_rate = librosa.load(file_path, sr=None)\n",
    "    non_silent_audio, _ = librosa.effects.trim(audio_data)\n",
    "    num_slices = int(len(non_silent_audio) / sampling_rate / duration)\n",
    "\n",
    "    # Diviser l'audio en fonction de duration\n",
    "    for i in range(num_slices):\n",
    "        start = i * sampling_rate * duration\n",
    "        end = start + sampling_rate * duration\n",
    "        slice_data = non_silent_audio[start:end]\n",
    "\n",
    "        data = slice_data.astype(np.float32)\n",
    "        data.resize((16000, 1))\n",
    "\n",
    "        x.append(data)\n",
    "        y.append(index)\n",
    "\n",
    "def getAllDataClasses(directory, index):\n",
    "    for recording in dataset_dir.glob(f'{directory}/*'):\n",
    "        slice_audio_with_trim(str(recording) ,index)\n",
    "\n",
    "def loadAllData():\n",
    "    for i in range(len(listQuery)):\n",
    "        getAllDataClasses(listQuery[i], i)\n",
    "\n",
    "loadAllData()"
   ]
  },
  {
   "cell_type": "code",
   "execution_count": 7,
   "metadata": {},
   "outputs": [
    {
     "name": "stdout",
     "output_type": "stream",
     "text": [
      "[0 1 2 3]\n",
      "[   0 1121 2242 3363]\n",
      "[1121 1121 1121 1121]\n"
     ]
    }
   ],
   "source": [
    "u, indexes, counts = np.unique(y, return_index=True, return_counts=True)\n",
    "min = np.min(counts)\n",
    "nbrClasses = len(u)\n",
    "\n",
    "indices = np.random.permutation(min)\n",
    "\n",
    "newX = []\n",
    "newY = []\n",
    "\n",
    "for i in range(nbrClasses):\n",
    "    sousSetX = []\n",
    "    sousSetY = []\n",
    "    \n",
    "    if i == nbrClasses - 1:\n",
    "        sousSetX = x[indexes[i]:]\n",
    "        sousSetY = y[indexes[i]:]\n",
    "    else:\n",
    "        sousSetX = x[indexes[i] : indexes[i + 1]]\n",
    "        sousSetY = y[indexes[i] : indexes[i + 1]]\n",
    "    \n",
    "    x_selectionne = [sousSetX[j] for j in indices]\n",
    "    y_selectionne = [sousSetY[j] for j in indices]\n",
    "\n",
    "    for x_s, y_s in zip(x_selectionne, y_selectionne):\n",
    "        newX.append(x_s)\n",
    "        newY.append(y_s)\n",
    "\n",
    "u, indexes, counts = np.unique(newY, return_index=True, return_counts=True)\n",
    "print(u)\n",
    "print(indexes)\n",
    "print(counts)"
   ]
  },
  {
   "cell_type": "code",
   "execution_count": 8,
   "metadata": {},
   "outputs": [],
   "source": [
    "x_train, x_test, y_train, y_test = model_selection.train_test_split(newX, newY, test_size=0.2)\n",
    "x_train = np.array(x_train)\n",
    "x_test = np.array(x_test)\n",
    "y_train = to_categorical(np.array(y_train))\n",
    "y_test = to_categorical(np.array(y_test))\n"
   ]
  },
  {
   "cell_type": "code",
   "execution_count": 9,
   "metadata": {},
   "outputs": [
    {
     "name": "stdout",
     "output_type": "stream",
     "text": [
      "(3587, 16000, 1) (897, 16000, 1)\n",
      "(3587, 4) (897, 4)\n"
     ]
    }
   ],
   "source": [
    "print(x_train.shape, x_test.shape)\n",
    "print(y_train.shape, y_test.shape)"
   ]
  },
  {
   "cell_type": "code",
   "execution_count": 121,
   "metadata": {},
   "outputs": [
    {
     "name": "stdout",
     "output_type": "stream",
     "text": [
      "Model: \"sequential_66\"\n",
      "_________________________________________________________________\n",
      " Layer (type)                Output Shape              Param #   \n",
      "=================================================================\n",
      " max_pooling1d_256 (MaxPooli  (None, 8000, 1)          0         \n",
      " ng1D)                                                           \n",
      "                                                                 \n",
      " conv1d_244 (Conv1D)         (None, 7998, 16)          64        \n",
      "                                                                 \n",
      " max_pooling1d_257 (MaxPooli  (None, 1999, 16)         0         \n",
      " ng1D)                                                           \n",
      "                                                                 \n",
      " conv1d_245 (Conv1D)         (None, 1997, 32)          1568      \n",
      "                                                                 \n",
      " max_pooling1d_258 (MaxPooli  (None, 249, 32)          0         \n",
      " ng1D)                                                           \n",
      "                                                                 \n",
      " average_pooling1d_15 (Avera  (None, 124, 32)          0         \n",
      " gePooling1D)                                                    \n",
      "                                                                 \n",
      " conv1d_246 (Conv1D)         (None, 122, 4)            388       \n",
      "                                                                 \n",
      " max_pooling1d_259 (MaxPooli  (None, 15, 4)            0         \n",
      " ng1D)                                                           \n",
      "                                                                 \n",
      " conv1d_247 (Conv1D)         (None, 13, 32)            416       \n",
      "                                                                 \n",
      " max_pooling1d_260 (MaxPooli  (None, 6, 32)            0         \n",
      " ng1D)                                                           \n",
      "                                                                 \n",
      " flatten_48 (Flatten)        (None, 192)               0         \n",
      "                                                                 \n",
      " dense_48 (Dense)            (None, 4)                 772       \n",
      "                                                                 \n",
      " activation_48 (Activation)  (None, 4)                 0         \n",
      "                                                                 \n",
      "=================================================================\n",
      "Total params: 3,208\n",
      "Trainable params: 3,208\n",
      "Non-trainable params: 0\n",
      "_________________________________________________________________\n"
     ]
    }
   ],
   "source": [
    "model = Sequential()\n",
    "model.add(Input(shape=(16000, 1)))\n",
    "model.add(MaxPool1D(pool_size=2))\n",
    "model.add(Conv1D(filters=16, kernel_size=3, activation='relu'))\n",
    "model.add(MaxPool1D(pool_size=4))\n",
    "model.add(Conv1D(filters=32, kernel_size=3, activation='relu'))\n",
    "model.add(MaxPool1D(pool_size=8))\n",
    "model.add(AvgPool1D())\n",
    "model.add(Conv1D(filters=4, kernel_size=3, activation='relu'))\n",
    "model.add(MaxPool1D(pool_size=8))\n",
    "model.add(Conv1D(filters=32, kernel_size=3, activation='relu'))\n",
    "model.add(MaxPool1D(pool_size=2))\n",
    "model.add(Flatten())\n",
    "model.add(Dense(units=4))\n",
    "model.add(Activation('softmax')) # SoftMax activation needs to be separate from Dense to remove it later on\n",
    "# EXPLORE Learning Rate\n",
    "opt = tf.keras.optimizers.Adam(learning_rate=10e-4)\n",
    "model.summary()\n",
    "model.compile(optimizer=opt, loss='categorical_crossentropy', metrics=['categorical_accuracy'])"
   ]
  },
  {
   "cell_type": "code",
   "execution_count": 122,
   "metadata": {},
   "outputs": [
    {
     "name": "stdout",
     "output_type": "stream",
     "text": [
      "Epoch 1/50\n",
      "359/359 [==============================] - 7s 17ms/step - loss: 1.3322 - categorical_accuracy: 0.3412 - val_loss: 1.0644 - val_categorical_accuracy: 0.5184\n",
      "Epoch 2/50\n",
      "359/359 [==============================] - 6s 15ms/step - loss: 0.8793 - categorical_accuracy: 0.5768 - val_loss: 0.7894 - val_categorical_accuracy: 0.6388\n",
      "Epoch 3/50\n",
      "359/359 [==============================] - 6s 15ms/step - loss: 0.7718 - categorical_accuracy: 0.6295 - val_loss: 0.7066 - val_categorical_accuracy: 0.6656\n",
      "Epoch 4/50\n",
      "359/359 [==============================] - 6s 17ms/step - loss: 0.7054 - categorical_accuracy: 0.6657 - val_loss: 0.7292 - val_categorical_accuracy: 0.6778\n",
      "Epoch 5/50\n",
      "359/359 [==============================] - 6s 17ms/step - loss: 0.6785 - categorical_accuracy: 0.6875 - val_loss: 0.6593 - val_categorical_accuracy: 0.7280\n",
      "Epoch 6/50\n",
      "359/359 [==============================] - 6s 15ms/step - loss: 0.6595 - categorical_accuracy: 0.7003 - val_loss: 0.7861 - val_categorical_accuracy: 0.6756\n",
      "Epoch 7/50\n",
      "359/359 [==============================] - 5s 15ms/step - loss: 0.6587 - categorical_accuracy: 0.7025 - val_loss: 0.6463 - val_categorical_accuracy: 0.7235\n",
      "Epoch 8/50\n",
      "359/359 [==============================] - 5s 15ms/step - loss: 0.6435 - categorical_accuracy: 0.7009 - val_loss: 0.7117 - val_categorical_accuracy: 0.7146\n",
      "Epoch 9/50\n",
      "359/359 [==============================] - 5s 15ms/step - loss: 0.6366 - categorical_accuracy: 0.7137 - val_loss: 0.6231 - val_categorical_accuracy: 0.7291\n",
      "Epoch 10/50\n",
      "359/359 [==============================] - 6s 15ms/step - loss: 0.6208 - categorical_accuracy: 0.7159 - val_loss: 0.6438 - val_categorical_accuracy: 0.7291\n",
      "Epoch 11/50\n",
      "359/359 [==============================] - 6s 16ms/step - loss: 0.6315 - categorical_accuracy: 0.7156 - val_loss: 0.6274 - val_categorical_accuracy: 0.7336\n",
      "Epoch 12/50\n",
      "359/359 [==============================] - 6s 18ms/step - loss: 0.6015 - categorical_accuracy: 0.7254 - val_loss: 0.6095 - val_categorical_accuracy: 0.7324\n",
      "Epoch 13/50\n",
      "359/359 [==============================] - 6s 18ms/step - loss: 0.5977 - categorical_accuracy: 0.7257 - val_loss: 0.6019 - val_categorical_accuracy: 0.7380\n",
      "Epoch 14/50\n",
      "359/359 [==============================] - 6s 18ms/step - loss: 0.5991 - categorical_accuracy: 0.7229 - val_loss: 0.6053 - val_categorical_accuracy: 0.7380\n",
      "Epoch 15/50\n",
      "359/359 [==============================] - 7s 19ms/step - loss: 0.5949 - categorical_accuracy: 0.7338 - val_loss: 0.6390 - val_categorical_accuracy: 0.7436\n",
      "Epoch 16/50\n",
      "359/359 [==============================] - 5s 15ms/step - loss: 0.5809 - categorical_accuracy: 0.7335 - val_loss: 0.6383 - val_categorical_accuracy: 0.7213\n",
      "Epoch 17/50\n",
      "359/359 [==============================] - 5s 15ms/step - loss: 0.5936 - categorical_accuracy: 0.7307 - val_loss: 0.6214 - val_categorical_accuracy: 0.7581\n",
      "Epoch 18/50\n",
      "359/359 [==============================] - 6s 15ms/step - loss: 0.5786 - categorical_accuracy: 0.7368 - val_loss: 0.5980 - val_categorical_accuracy: 0.7503\n",
      "Epoch 19/50\n",
      "359/359 [==============================] - 5s 15ms/step - loss: 0.5677 - categorical_accuracy: 0.7449 - val_loss: 0.6041 - val_categorical_accuracy: 0.7492\n",
      "Epoch 20/50\n",
      "359/359 [==============================] - 5s 15ms/step - loss: 0.5762 - categorical_accuracy: 0.7413 - val_loss: 0.6182 - val_categorical_accuracy: 0.7748\n",
      "Epoch 21/50\n",
      "359/359 [==============================] - 6s 15ms/step - loss: 0.5780 - categorical_accuracy: 0.7438 - val_loss: 0.6271 - val_categorical_accuracy: 0.7536\n",
      "Epoch 22/50\n",
      "359/359 [==============================] - 6s 15ms/step - loss: 0.5605 - categorical_accuracy: 0.7455 - val_loss: 0.7631 - val_categorical_accuracy: 0.6901\n",
      "Epoch 23/50\n",
      "359/359 [==============================] - 6s 15ms/step - loss: 0.5538 - categorical_accuracy: 0.7471 - val_loss: 0.6170 - val_categorical_accuracy: 0.7425\n",
      "Epoch 24/50\n",
      "359/359 [==============================] - 5s 15ms/step - loss: 0.5440 - categorical_accuracy: 0.7460 - val_loss: 0.6338 - val_categorical_accuracy: 0.7603\n",
      "Epoch 25/50\n",
      "359/359 [==============================] - 5s 15ms/step - loss: 0.5505 - categorical_accuracy: 0.7474 - val_loss: 0.6267 - val_categorical_accuracy: 0.7748\n",
      "Epoch 26/50\n",
      "359/359 [==============================] - 5s 15ms/step - loss: 0.5461 - categorical_accuracy: 0.7547 - val_loss: 0.6281 - val_categorical_accuracy: 0.7614\n",
      "Epoch 27/50\n",
      "359/359 [==============================] - 6s 15ms/step - loss: 0.5480 - categorical_accuracy: 0.7558 - val_loss: 0.6098 - val_categorical_accuracy: 0.7692\n",
      "Epoch 28/50\n",
      "359/359 [==============================] - 6s 15ms/step - loss: 0.5301 - categorical_accuracy: 0.7650 - val_loss: 0.6648 - val_categorical_accuracy: 0.7358\n",
      "Epoch 29/50\n",
      "359/359 [==============================] - 6s 15ms/step - loss: 0.5307 - categorical_accuracy: 0.7653 - val_loss: 0.6585 - val_categorical_accuracy: 0.7492\n",
      "Epoch 30/50\n",
      "359/359 [==============================] - 6s 15ms/step - loss: 0.5380 - categorical_accuracy: 0.7577 - val_loss: 0.6239 - val_categorical_accuracy: 0.7748\n",
      "Epoch 31/50\n",
      "359/359 [==============================] - 5s 15ms/step - loss: 0.5228 - categorical_accuracy: 0.7644 - val_loss: 0.6267 - val_categorical_accuracy: 0.7681\n",
      "Epoch 32/50\n",
      "359/359 [==============================] - 6s 15ms/step - loss: 0.5157 - categorical_accuracy: 0.7614 - val_loss: 0.6274 - val_categorical_accuracy: 0.7592\n",
      "Epoch 33/50\n",
      "359/359 [==============================] - 5s 15ms/step - loss: 0.5217 - categorical_accuracy: 0.7625 - val_loss: 0.6340 - val_categorical_accuracy: 0.7536\n",
      "Epoch 34/50\n",
      "359/359 [==============================] - 6s 15ms/step - loss: 0.5092 - categorical_accuracy: 0.7770 - val_loss: 0.6161 - val_categorical_accuracy: 0.7982\n",
      "Epoch 35/50\n",
      "359/359 [==============================] - 5s 15ms/step - loss: 0.5101 - categorical_accuracy: 0.7733 - val_loss: 0.6747 - val_categorical_accuracy: 0.7414\n",
      "Epoch 36/50\n",
      "359/359 [==============================] - 6s 16ms/step - loss: 0.4953 - categorical_accuracy: 0.7825 - val_loss: 0.6316 - val_categorical_accuracy: 0.7648\n",
      "Epoch 37/50\n",
      "359/359 [==============================] - 7s 19ms/step - loss: 0.4993 - categorical_accuracy: 0.7692 - val_loss: 0.6641 - val_categorical_accuracy: 0.7692\n",
      "Epoch 38/50\n",
      "359/359 [==============================] - 6s 18ms/step - loss: 0.4869 - categorical_accuracy: 0.7873 - val_loss: 0.6507 - val_categorical_accuracy: 0.7703\n",
      "Epoch 39/50\n",
      "359/359 [==============================] - 6s 15ms/step - loss: 0.4905 - categorical_accuracy: 0.7792 - val_loss: 0.6762 - val_categorical_accuracy: 0.7425\n",
      "Epoch 40/50\n",
      "359/359 [==============================] - 6s 15ms/step - loss: 0.4822 - categorical_accuracy: 0.7831 - val_loss: 0.7899 - val_categorical_accuracy: 0.7826\n",
      "Epoch 41/50\n",
      "359/359 [==============================] - 6s 15ms/step - loss: 0.4800 - categorical_accuracy: 0.7809 - val_loss: 0.6545 - val_categorical_accuracy: 0.7848\n",
      "Epoch 42/50\n",
      "359/359 [==============================] - 6s 15ms/step - loss: 0.4757 - categorical_accuracy: 0.7884 - val_loss: 0.6510 - val_categorical_accuracy: 0.7837\n",
      "Epoch 43/50\n",
      "359/359 [==============================] - 6s 15ms/step - loss: 0.4601 - categorical_accuracy: 0.7945 - val_loss: 0.6586 - val_categorical_accuracy: 0.7770\n",
      "Epoch 44/50\n",
      "359/359 [==============================] - 6s 15ms/step - loss: 0.4727 - categorical_accuracy: 0.7954 - val_loss: 0.6069 - val_categorical_accuracy: 0.7938\n",
      "Epoch 45/50\n",
      "359/359 [==============================] - 5s 15ms/step - loss: 0.4685 - categorical_accuracy: 0.8035 - val_loss: 0.6166 - val_categorical_accuracy: 0.7871\n",
      "Epoch 46/50\n",
      "359/359 [==============================] - 6s 15ms/step - loss: 0.4543 - categorical_accuracy: 0.8026 - val_loss: 0.6435 - val_categorical_accuracy: 0.7804\n",
      "Epoch 47/50\n",
      "359/359 [==============================] - 6s 15ms/step - loss: 0.4437 - categorical_accuracy: 0.8074 - val_loss: 0.6296 - val_categorical_accuracy: 0.7926\n",
      "Epoch 48/50\n",
      "359/359 [==============================] - 6s 15ms/step - loss: 0.4404 - categorical_accuracy: 0.8093 - val_loss: 0.6586 - val_categorical_accuracy: 0.7993\n",
      "Epoch 49/50\n",
      "359/359 [==============================] - 6s 15ms/step - loss: 0.4348 - categorical_accuracy: 0.8049 - val_loss: 0.6567 - val_categorical_accuracy: 0.7692\n",
      "Epoch 50/50\n",
      "359/359 [==============================] - 6s 15ms/step - loss: 0.4309 - categorical_accuracy: 0.8166 - val_loss: 0.6440 - val_categorical_accuracy: 0.7949\n"
     ]
    },
    {
     "data": {
      "text/plain": [
       "<keras.callbacks.History at 0x2d80b0e6970>"
      ]
     },
     "execution_count": 122,
     "metadata": {},
     "output_type": "execute_result"
    }
   ],
   "source": [
    "model.fit(x_train, y_train, epochs=50, batch_size=10, validation_data=(x_test, y_test))\n",
    "# model.fit(x_train, y_train, epochs=25, batch_size=268, validation_data=(x_test, y_test))"
   ]
  },
  {
   "cell_type": "code",
   "execution_count": 123,
   "metadata": {},
   "outputs": [
    {
     "name": "stdout",
     "output_type": "stream",
     "text": [
      "29/29 - 0s - loss: 0.6440 - categorical_accuracy: 0.7949 - 394ms/epoch - 14ms/step\n",
      "29/29 [==============================] - 0s 13ms/step\n",
      "tf.Tensor(\n",
      "[[194   4   9   5]\n",
      " [  3 203  16   0]\n",
      " [106  11 112   1]\n",
      " [ 23   0   6 204]], shape=(4, 4), dtype=int32)\n"
     ]
    }
   ],
   "source": [
    "model.evaluate(x_test, y_test, verbose=2)\n",
    "pred_test = model.predict(x_test)\n",
    "print(tf.math.confusion_matrix(y_test.argmax(axis=1), pred_test.argmax(axis=1)))"
   ]
  },
  {
   "cell_type": "code",
   "execution_count": 69,
   "metadata": {},
   "outputs": [],
   "source": [
    "model.save('project.h5')"
   ]
  },
  {
   "cell_type": "code",
   "execution_count": 70,
   "metadata": {},
   "outputs": [],
   "source": [
    "if isinstance(model.layers[-1], Activation) and model.layers[-1].activation == softmax:\n",
    "    model = tf.keras.Model(model.input, model.layers[-2].output, name=model.name)\n",
    "else:\n",
    "    print('Error: last layer is not SoftMax Activation')"
   ]
  },
  {
   "cell_type": "code",
   "execution_count": 71,
   "metadata": {},
   "outputs": [
    {
     "name": "stdout",
     "output_type": "stream",
     "text": [
      "Requirement already satisfied: qualia_codegen_core in c:\\users\\bobca\\appdata\\local\\programs\\python\\python39\\lib\\site-packages (2.2.0)\n",
      "Requirement already satisfied: numpy in c:\\users\\bobca\\appdata\\local\\programs\\python\\python39\\lib\\site-packages (from qualia_codegen_core) (1.24.2)\n",
      "Requirement already satisfied: jinja2 in c:\\users\\bobca\\appdata\\local\\programs\\python\\python39\\lib\\site-packages (from qualia_codegen_core) (3.1.3)\n",
      "Requirement already satisfied: typing_extensions in c:\\users\\bobca\\appdata\\local\\programs\\python\\python39\\lib\\site-packages (from qualia_codegen_core) (4.11.0)\n",
      "Requirement already satisfied: MarkupSafe>=2.0 in c:\\users\\bobca\\appdata\\local\\programs\\python\\python39\\lib\\site-packages (from jinja2->qualia_codegen_core) (2.1.5)\n",
      "Note: you may need to restart the kernel to use updated packages.\n"
     ]
    }
   ],
   "source": [
    "%pip install qualia_codegen_core\n",
    "import qualia_codegen_core\n",
    "from qualia_codegen_core.graph.KerasModelGraph import KerasModelGraph\n",
    "from qualia_codegen_core.graph.Quantization import Quantization\n",
    "from qualia_codegen_core.graph.RoundMode import RoundMode\n",
    "\n",
    "from importlib.resources import files\n",
    "main_path = str((files('qualia_codegen_core.examples')/'Linux'/'main.cpp').resolve())"
   ]
  },
  {
   "cell_type": "code",
   "execution_count": 20,
   "metadata": {},
   "outputs": [
    {
     "name": "stdout",
     "output_type": "stream",
     "text": [
      "—————————————————————————————————————————————————————————————————————————————————————————————————————————————————————————————————————————————————————————————————————————————————————————————————————————————————————————————————————————————————————————————\n",
      "Inputs                                           | Layer                                            | Outputs                                          | Input shape                                      | Output shape                                    \n",
      "—————————————————————————————————————————————————————————————————————————————————————————————————————————————————————————————————————————————————————————————————————————————————————————————————————————————————————————————————————————————————————————————\n",
      "                                                 | input_1                                          | conv1d                                           | (1, 16000, 1)                                    | ((1, 16000, 1),)                                \n",
      "-------------------------------------------------------------------------------------------------------------------------------------------------------------------------------------------------------------------------------------------------------------\n",
      "input_1                                          | conv1d                                           | max_pooling1d                                    | (1, 16000, 1)                                    | ((1, 15998, 4),)                                \n",
      "-------------------------------------------------------------------------------------------------------------------------------------------------------------------------------------------------------------------------------------------------------------\n",
      "conv1d                                           | max_pooling1d                                    | conv1d_1                                         | (1, 15998, 4)                                    | ((1, 1999, 4),)                                 \n",
      "-------------------------------------------------------------------------------------------------------------------------------------------------------------------------------------------------------------------------------------------------------------\n",
      "max_pooling1d                                    | conv1d_1                                         | max_pooling1d_1                                  | (1, 1999, 4)                                     | ((1, 1997, 4),)                                 \n",
      "-------------------------------------------------------------------------------------------------------------------------------------------------------------------------------------------------------------------------------------------------------------\n",
      "conv1d_1                                         | max_pooling1d_1                                  | flatten                                          | (1, 1997, 4)                                     | ((1, 998, 4),)                                  \n",
      "-------------------------------------------------------------------------------------------------------------------------------------------------------------------------------------------------------------------------------------------------------------\n",
      "max_pooling1d_1                                  | flatten                                          | dense                                            | (1, 998, 4)                                      | ((1, 3992),)                                    \n",
      "-------------------------------------------------------------------------------------------------------------------------------------------------------------------------------------------------------------------------------------------------------------\n",
      "flatten                                          | dense                                            |                                                  | (1, 3992)                                        | ((1, 4),)                                       \n",
      "-------------------------------------------------------------------------------------------------------------------------------------------------------------------------------------------------------------------------------------------------------------\n",
      "\n"
     ]
    }
   ],
   "source": [
    "modelgraph = KerasModelGraph(model).convert()\n",
    "print(modelgraph)"
   ]
  },
  {
   "cell_type": "code",
   "execution_count": 21,
   "metadata": {},
   "outputs": [
    {
     "name": "stdout",
     "output_type": "stream",
     "text": [
      "Keras weights file (<HDF5 file \"variables.h5\" (mode r+)>) saving:\n",
      "...layers\\conv1d\n",
      "......vars\n",
      ".........0\n",
      ".........1\n",
      "...layers\\conv1d_1\n",
      "......vars\n",
      ".........0\n",
      ".........1\n",
      "...layers\\dense\n",
      "......vars\n",
      ".........0\n",
      ".........1\n",
      "...layers\\flatten\n",
      "......vars\n",
      "...layers\\input_layer\n",
      "......vars\n",
      "...layers\\max_pooling1d\n",
      "......vars\n",
      "...layers\\max_pooling1d_1\n",
      "......vars\n",
      "...vars\n",
      "Keras model archive saving:\n",
      "File Name                                             Modified             Size\n",
      "config.json                                    2024-04-22 22:47:08         2894\n",
      "metadata.json                                  2024-04-22 22:47:08           64\n",
      "variables.h5                                   2024-04-22 22:47:08        82616\n",
      "Keras model archive loading:\n",
      "File Name                                             Modified             Size\n",
      "config.json                                    2024-04-22 22:47:08         2894\n",
      "metadata.json                                  2024-04-22 22:47:08           64\n",
      "variables.h5                                   2024-04-22 22:47:08        82616\n",
      "Keras weights file (<HDF5 file \"variables.h5\" (mode r)>) loading:\n",
      "...layers\\conv1d\n",
      "......vars\n",
      ".........0\n",
      ".........1\n",
      "...layers\\conv1d_1\n",
      "......vars\n",
      ".........0\n",
      ".........1\n",
      "...layers\\dense\n",
      "......vars\n",
      ".........0\n",
      ".........1\n",
      "...layers\\flatten\n",
      "......vars\n",
      "...layers\\input_layer\n",
      "......vars\n",
      "...layers\\max_pooling1d\n",
      "......vars\n",
      "...layers\\max_pooling1d_1\n",
      "......vars\n",
      "...vars\n"
     ]
    },
    {
     "name": "stderr",
     "output_type": "stream",
     "text": [
      "Graphviz not available\n"
     ]
    }
   ],
   "source": [
    "float_modelgraph = copy.deepcopy(modelgraph)\n",
    "\n",
    "# layer quantization annotations for float32\n",
    "for node in float_modelgraph.nodes:\n",
    "    # No scale factor if not fixed-point quantization on integers\n",
    "    node.q = Quantization(\n",
    "            number_type=float,\n",
    "            width=32,\n",
    "            long_width=32,\n",
    "            weights_scale_factor=0,\n",
    "            output_scale_factor=0,\n",
    "            weights_round_mode=RoundMode.NONE,\n",
    "            output_round_mode=RoundMode.NONE,\n",
    "            )\n",
    "\n",
    "float_res = qualia_codegen_core.Converter(output_path=Path('gsc_output_floating')).convert_model(float_modelgraph)\n",
    "\n",
    "with open('gsc_model_floating.h', 'w') as f:\n",
    "    f.write(float_res)"
   ]
  },
  {
   "cell_type": "code",
   "execution_count": 23,
   "metadata": {},
   "outputs": [
    {
     "name": "stderr",
     "output_type": "stream",
     "text": [
      "In file included from gsc_output_floating/model.c:15:\n",
      "gsc_output_floating/include/number.h: In function 'float scale_number_t_float(float, int, round_mode_t)':\n",
      "gsc_output_floating/include/number.h:73:21: warning: unused parameter 'scale_factor' [-Wunused-parameter]\n",
      "   73 |   float number, int scale_factor, round_mode_t round_mode) {\n",
      "      |                 ~~~~^~~~~~~~~~~~\n",
      "gsc_output_floating/include/number.h:73:48: warning: unused parameter 'round_mode' [-Wunused-parameter]\n",
      "   73 |   float number, int scale_factor, round_mode_t round_mode) {\n",
      "      |                                   ~~~~~~~~~~~~~^~~~~~~~~~\n",
      "gsc_output_floating/include/number.h: In function 'float scale_and_clamp_to_number_t_float(float, int, round_mode_t)':\n",
      "gsc_output_floating/include/number.h:81:21: warning: unused parameter 'scale_factor' [-Wunused-parameter]\n",
      "   81 |   float number, int scale_factor, round_mode_t round_mode) {\n",
      "      |                 ~~~~^~~~~~~~~~~~\n",
      "gsc_output_floating/include/number.h:81:48: warning: unused parameter 'round_mode' [-Wunused-parameter]\n",
      "   81 |   float number, int scale_factor, round_mode_t round_mode) {\n",
      "      |                                   ~~~~~~~~~~~~~^~~~~~~~~~\n",
      "In file included from gsc_output_floating/include/model.h:19,\n",
      "                 from C:\\Users\\bobca\\AppData\\Local\\Programs\\Python\\Python39\\Lib\\site-packages\\qualia_codegen_core\\examples\\Linux\\main.cpp:12:\n",
      "gsc_output_floating/include/number.h: In function 'float scale_number_t_float(float, int, round_mode_t)':\n",
      "gsc_output_floating/include/number.h:73:21: warning: unused parameter 'scale_factor' [-Wunused-parameter]\n",
      "   73 |   float number, int scale_factor, round_mode_t round_mode) {\n",
      "      |                 ~~~~^~~~~~~~~~~~\n",
      "gsc_output_floating/include/number.h:73:48: warning: unused parameter 'round_mode' [-Wunused-parameter]\n",
      "   73 |   float number, int scale_factor, round_mode_t round_mode) {\n",
      "      |                                   ~~~~~~~~~~~~~^~~~~~~~~~\n",
      "gsc_output_floating/include/number.h: In function 'float scale_and_clamp_to_number_t_float(float, int, round_mode_t)':\n",
      "gsc_output_floating/include/number.h:81:21: warning: unused parameter 'scale_factor' [-Wunused-parameter]\n",
      "   81 |   float number, int scale_factor, round_mode_t round_mode) {\n",
      "      |                 ~~~~^~~~~~~~~~~~\n",
      "gsc_output_floating/include/number.h:81:48: warning: unused parameter 'round_mode' [-Wunused-parameter]\n",
      "   81 |   float number, int scale_factor, round_mode_t round_mode) {\n",
      "      |                                   ~~~~~~~~~~~~~^~~~~~~~~~\n"
     ]
    }
   ],
   "source": [
    "!g++ -std=c++17 -Wall -Wextra -pedantic -Ofast -o gsc_fixed -include gsc_output_floating/include/defines.h -Igsc_output_floating/include gsc_output_floating/model.c {main_path}"
   ]
  }
 ],
 "metadata": {
  "kernelspec": {
   "display_name": "Python 3",
   "language": "python",
   "name": "python3"
  },
  "language_info": {
   "codemirror_mode": {
    "name": "ipython",
    "version": 3
   },
   "file_extension": ".py",
   "mimetype": "text/x-python",
   "name": "python",
   "nbconvert_exporter": "python",
   "pygments_lexer": "ipython3",
   "version": "3.9.12"
  }
 },
 "nbformat": 4,
 "nbformat_minor": 2
}
